{
 "cells": [
  {
   "cell_type": "markdown",
   "metadata": {},
   "source": [
    "## Introduction\n",
    "\n",
    "This notebook will allow you to :\n",
    " - Read a .bag file and extract the color information, this information will be saved in a .mp4 video file that has the same name as the original file with a '_color.mp4' suffix\n",
    " \n",
    " - Read the .mp4 file and localize facial landmarks using FAN (I will add the option to used dlib in the future). The scrip will allow you to select if the face should be localized at:\n",
    "  - First frame of the video (default)\n",
    "  - All frames of the video\n",
    "  - Every _n_ frame \n",
    "\n",
    "Landmarks and bounding box information will be stored in a .csv file that has the same name as the original file with a '_landmarks.csv' suffix\n",
    "    \n",
    "- Read the .bag file and extract the depth information. Extract the depth information for the landmark localized in the previous step and transform the landmarks from image coordinate frame into _real word_ coordinate frame (using the camera intrinsic parameters). _Real word_ landmarks position will be stored in  csv file that has the same name as the original file with a '_depth.csv' suffix\n",
    " "
   ]
  },
  {
   "cell_type": "code",
   "execution_count": 28,
   "metadata": {},
   "outputs": [],
   "source": [
    "%matplotlib inline\n",
    "%reload_ext autoreload\n",
    "%autoreload 2"
   ]
  },
  {
   "cell_type": "code",
   "execution_count": 135,
   "metadata": {},
   "outputs": [],
   "source": [
    "import pyrealsense2 as rs\n",
    "import cv2\n",
    "import numpy as np\n",
    "import matplotlib.pyplot as plt\n",
    "import os\n",
    "from cv2 import VideoWriter, VideoWriter_fourcc\n",
    "import pandas as pd\n",
    "import torch\n",
    "from scipy import signal, ndimage, spatial\n",
    "import statsmodels.api as sm"
   ]
  },
  {
   "cell_type": "code",
   "execution_count": 76,
   "metadata": {},
   "outputs": [],
   "source": [
    "BAG_File = r\"C:\\Users\\GuarinD\\Documents\\GitHub\\Extract_Color_Information\\data\\RM01_02_NSM_OPEN_20191101.bag\""
   ]
  },
  {
   "cell_type": "markdown",
   "metadata": {},
   "source": [
    "### This portion of the notebook extract the color information "
   ]
  },
  {
   "cell_type": "code",
   "execution_count": 77,
   "metadata": {},
   "outputs": [
    {
     "name": "stdout",
     "output_type": "stream",
     "text": [
      "done\n"
     ]
    }
   ],
   "source": [
    "# start the process of extracting the video information for each video\n",
    "pipeline = rs.pipeline()\n",
    "config = rs.config()\n",
    "\n",
    "rs.config.enable_device_from_file(config, BAG_File, repeat_playback=False)\n",
    "\n",
    "config.enable_all_streams()\n",
    "profile = pipeline.start(config)\n",
    "\n",
    "# create alignment object\n",
    "align_to = rs.stream.color\n",
    "align = rs.align(align_to)\n",
    "\n",
    "# inform the device that this is not live streaming from camera\n",
    "playback = profile.get_device().as_playback()\n",
    "playback.set_real_time(False)\n",
    "duration = playback.get_duration()\n",
    "\n",
    "true_frame_number = []\n",
    "frame_number = []\n",
    "time_st = []\n",
    "\n",
    "num_frame = 0\n",
    "\n",
    "\n",
    "Color_Frames = []#{}\n",
    "\n",
    "try:\n",
    "    while True:\n",
    "        frames = pipeline.wait_for_frames(100)  #get frame from file \n",
    "        \n",
    "        this_frame = frames.get_frame_number()  #get frame number \n",
    "        \n",
    "        if (num_frame != 0) and (true_frame_number[-1] == this_frame): #verify that frame number is not repeated \n",
    "            #if frame number is repeated then replace the stored information \n",
    "            aligned_frames = align.process(frames)\n",
    "\n",
    "            #take color and depth from frame, if any to these is not available then skip the frame\n",
    "            aligned_depth = aligned_frames.get_depth_frame()\n",
    "            aligned_color = aligned_frames.get_color_frame()\n",
    "\n",
    "            # validate that both frames are available\n",
    "            if not aligned_depth or not aligned_color:\n",
    "                continue\n",
    "\n",
    "            time_stamp = frames.get_timestamp()\n",
    "            true_frame_number[-1] = frames.get_frame_number()\n",
    "            time_st[-1] = time_stamp \n",
    "\n",
    "            # transform to np array\n",
    "\n",
    "            color_data = np.asanyarray(aligned_color.as_frame().get_data(), dtype=np.int)\n",
    "            #depth_data = np.asanyarray(aligned_depth.as_frame().get_data(), dtype=np.int)\n",
    "            # adjust depth data in meters\n",
    "            #depth_data *= depth_scale\n",
    "\n",
    "            Color_Frames[-1] = color_data\n",
    "            \n",
    "        else:\n",
    "            #if frame number is not repeated then append the stored information \n",
    "            aligned_frames = align.process(frames)\n",
    "\n",
    "            #take color and depth from frame, if any to these is not available then skip the frame\n",
    "            aligned_depth = aligned_frames.get_depth_frame()\n",
    "            aligned_color = aligned_frames.get_color_frame()\n",
    "\n",
    "            # validate that both frames are available\n",
    "            if not aligned_depth or not aligned_color:\n",
    "                continue\n",
    "\n",
    "            time_stamp = frames.get_timestamp()\n",
    "            true_frame_number.append(frames.get_frame_number())\n",
    "            time_st.append(time_stamp )\n",
    "\n",
    "            # transform to np array\n",
    "\n",
    "            color_data = np.asanyarray(aligned_color.as_frame().get_data(), dtype=np.int)\n",
    "            #depth_data = np.asanyarray(aligned_depth.as_frame().get_data(), dtype=np.int)\n",
    "            # adjust depth data in meters\n",
    "            #depth_data *= depth_scale\n",
    "\n",
    "            Color_Frames.append(color_data)\n",
    "            #Depth_Frames.append(depth_data\n",
    "\n",
    "            frame_number.append(num_frame)\n",
    "            num_frame += 1\n",
    "        \n",
    "except RuntimeError:\n",
    "    pass\n",
    "finally:\n",
    "    pipeline.stop()\n",
    "    \n",
    "duration_movie = duration.total_seconds()\n",
    "FPS = num_frame/duration_movie\n",
    "height, width,_ =  Color_Frames[0].shape\n",
    "\n",
    "color_file = BAG_File[:-4]+'_color.mp4'\n",
    "\n",
    "video = VideoWriter(color_file, -1, int(FPS), (width,height))\n",
    "\n",
    "for k in range(num_frame):\n",
    "    frame_to_save = Color_Frames[k].astype('uint8')\n",
    "    video.write(frame_to_save)\n",
    "\n",
    "video.release()    \n",
    "\n",
    "\n",
    "cvs_frame_info = BAG_File[:-4]+'_frameInfoColor.csv'\n",
    "df_cols = ['Actual_Frame_Number', 'Frame_Time_Stamp', 'Frame_Number_in_Video']\n",
    "df = pd.DataFrame(columns=df_cols)\n",
    "df['Actual_Frame_Number'] = true_frame_number\n",
    "df['Frame_Time_Stamp'] = (np.array(time_st)-time_st[0])/1000\n",
    "df['Frame_Number_in_Video'] = frame_number\n",
    "\n",
    "df.to_csv(cvs_frame_info)\n",
    "print('done')"
   ]
  },
  {
   "cell_type": "markdown",
   "metadata": {},
   "source": [
    "### This portion of the notebook takes the color information and finds the position of facial landmarks using FAN"
   ]
  },
  {
   "cell_type": "markdown",
   "metadata": {},
   "source": [
    "#### Load models for face and facial landmarks localization"
   ]
  },
  {
   "cell_type": "code",
   "execution_count": 78,
   "metadata": {},
   "outputs": [],
   "source": [
    "from face_alignment.utils import *\n",
    "from face_alignment import api as face_alignment\n",
    "from face_alignment.models import FAN\n",
    "from face_alignment.detection.sfd import sfd_detector\n",
    "\n",
    "def load_weights(model, filename):\n",
    "    sd = torch.load(filename, map_location=lambda storage, loc: storage)\n",
    "    names = set(model.state_dict().keys())\n",
    "    for n in list(sd.keys()): \n",
    "        if n not in names and n+'_raw' in names:\n",
    "            if n+'_raw' not in sd: sd[n+'_raw'] = sd[n]\n",
    "            del sd[n]\n",
    "    model.load_state_dict(sd)\n",
    "\n",
    "face_alignment_model = r\"./models/2DFAN4-11f355bf06.pth.tar\"\n",
    "device = 'cuda:0' if torch.cuda.is_available() else 'cpu'\n",
    "#Face alignement\n",
    "network_size = 4\n",
    "face_alignment_net = FAN(network_size)\n",
    "load_weights(face_alignment_net,face_alignment_model)\n",
    "face_alignment_net.to(device)\n",
    "face_alignment_net.eval()\n",
    "#face detection \n",
    "face_detector_model = r\"./models/s3fd-619a316812.pth\"\n",
    "face_detection_net = sfd_detector.SFDDetector(device=device, path_to_detector=face_detector_model, verbose=False)"
   ]
  },
  {
   "cell_type": "code",
   "execution_count": 79,
   "metadata": {},
   "outputs": [],
   "source": [
    "localize_face = 0\n",
    "# localize_face = 0 -> Face is localized at a single frame in the video (the middle frame)\n",
    "# localize_face = -1 -> Face is localized at each frame of the video\n",
    "# localize_face = n -> face is localized every n frames \n",
    "\n",
    "# we will start by localizing the face in the middel of the video, if additional information is needed \n",
    "# then will be added as required\n",
    "\n",
    "video_handler = cv2.VideoCapture(color_file)  # read the video\n",
    "num_frames = int(video_handler.get(cv2.CAP_PROP_FRAME_COUNT))\n",
    "video_fps = int(video_handler.get(cv2.CAP_PROP_FPS))\n",
    "video_handler.set(cv2.CAP_PROP_POS_FRAMES, num_frames//2)\n",
    "\n",
    "success, image = video_handler.read()\n",
    "\n",
    "if success: \n",
    "    detected_faces = face_detection_net.detect_from_image(image)\n",
    "    for i, d in enumerate(detected_faces):\n",
    "        center = torch.FloatTensor(\n",
    "            [d[2] - (d[2] - d[0]) / 2.0, d[3] - (d[3] - d[1]) / 2.0])\n",
    "        center[1] = center[1] - (d[3] - d[1]) * 0.12\n",
    "        scale = (d[2] - d[0] + d[3] - d[1]) / face_detection_net.reference_scale\n",
    "video_handler.release()\n",
    "\n",
    "# at this point we have the position of the face in the mid frame. Let's use that info"
   ]
  },
  {
   "cell_type": "code",
   "execution_count": 80,
   "metadata": {},
   "outputs": [
    {
     "name": "stdout",
     "output_type": "stream",
     "text": [
      "[array([260.41446   ,  74.1201    , 425.92075   , 293.44287   ,\n",
      "         0.99997354], dtype=float32)]\n",
      "[array([260.41446   ,  74.1201    , 425.92075   , 333.44287   ,\n",
      "         0.99997354], dtype=float32)]\n"
     ]
    }
   ],
   "source": [
    "#here you can modify the bounding box if needed. You probably will need to update the y2 coordinate\n",
    "print(detected_faces)\n",
    "#modify -- if you are doing this for open mouth protocols, then just add ~30 to 50 to the 4 element of the vector\n",
    "detected_faces[0][3] = detected_faces[0][3]+40\n",
    "print(detected_faces)\n",
    "#update parameters with new bounding box\n",
    "\n",
    "for i, d in enumerate(detected_faces):\n",
    "    center = torch.FloatTensor(\n",
    "        [d[2] - (d[2] - d[0]) / 2.0, d[3] - (d[3] - d[1]) / 2.0])\n",
    "    center[1] = center[1] - (d[3] - d[1]) * 0.12\n",
    "    scale = (d[2] - d[0] + d[3] - d[1]) / face_detection_net.reference_scale"
   ]
  },
  {
   "cell_type": "code",
   "execution_count": 81,
   "metadata": {},
   "outputs": [
    {
     "name": "stdout",
     "output_type": "stream",
     "text": [
      "done\n"
     ]
    }
   ],
   "source": [
    "#create a dataframe that will store all the information \n",
    "df_cols = [\"BAG_Frame_number\",\"Video_Frame_number\", \"bbox_top_x\", \"bbox_top_y\", \"bbox_bottom_x\", \"bbox_bottom_y\"]\n",
    "for i in range(0,68):\n",
    "    num=str(i)\n",
    "    xx = 'landmark_'+num+'_x'\n",
    "    yy = 'landmark_'+num+'_y'\n",
    "    df_cols.append(xx)\n",
    "    df_cols.append(yy)\n",
    "    \n",
    "LandmarkDataFrame = pd.DataFrame(columns = df_cols)\n",
    "\n",
    "# re-position the video handler at the first frame and start going frame by frame\n",
    "video_handler = cv2.VideoCapture(color_file)  # read the video\n",
    "k = 0\n",
    "success = True\n",
    "while success:\n",
    "    success, image = video_handler.read()\n",
    "    if success:\n",
    "        \n",
    "        if localize_face == 0:\n",
    "            #do not localize the face, use previous info \n",
    "            pass \n",
    "        elif localize_face == -1 :\n",
    "            #localize the face at each frame, upd\n",
    "            update_detected_faces = face_detection_net.detect_from_image(image)\n",
    "            for i, d in enumerate(update_detected_face):\n",
    "                \n",
    "                if d[4]>=0.8:\n",
    "                    #do we trust the face localizer, if yes (>0.8) then update the bounding box, \n",
    "                    # if not (<0.8) don't update the bounding box\n",
    "                    detected_faces = update_detected_face\n",
    "                    center = torch.FloatTensor(\n",
    "                        [d[2] - (d[2] - d[0]) / 2.0, d[3] - (d[3] - d[1]) / 2.0])\n",
    "                    center[1] = center[1] - (d[3] - d[1]) * 0.12\n",
    "                    scale = (d[2] - d[0] + d[3] - d[1]) / face_detection_net.reference_scale\n",
    "                           \n",
    "        else:\n",
    "            #only update every n frames\n",
    "            if (k+1)%localize_face == 0:\n",
    "                update_detected_face = face_detection_net.detect_from_image(image)\n",
    "                for i, d in enumerate(detected_faces):\n",
    "\n",
    "                    if d[4]>=0.8:\n",
    "                        #do we trust the face localizer, if yes (>0.8) then update the bounding box, \n",
    "                        # if not (<0.8) don't update the bounding box\n",
    "                        detected_faces = update_detected_face\n",
    "                        center = torch.FloatTensor(\n",
    "                            [d[2] - (d[2] - d[0]) / 2.0, d[3] - (d[3] - d[1]) / 2.0])\n",
    "                        center[1] = center[1] - (d[3] - d[1]) * 0.12\n",
    "                        scale = (d[2] - d[0] + d[3] - d[1]) / face_detection_net.reference_scale\n",
    "            \n",
    "        \n",
    "        inp = crop(image, center, scale)\n",
    "        inp = torch.from_numpy(inp.transpose(\n",
    "                    (2, 0, 1))).float()\n",
    "        inp = inp.to(device)\n",
    "        inp.div_(255).unsqueeze_(0)\n",
    "\n",
    "        out = face_alignment_net(inp)[-1].detach() #[-1] is to get the output of the last hourglass block\n",
    "        out = out.cpu()\n",
    "        pts, pts_img = get_preds_fromhm(out, center, scale)\n",
    "        \n",
    "        pts_img = pts_img.view(68, 2)\n",
    "        \n",
    "\n",
    "\n",
    "        # Store everything in a dataframe\n",
    "        datus = []\n",
    "        datus.append(true_frame_number[int(k)])  #frame number provided by the .bag file \n",
    "        datus.append(int(k)+1)  # frame number in the color_only video \n",
    "    \n",
    "        datus.append(detected_faces[0][0])  #top\n",
    "        datus.append(detected_faces[0][1])  #left\n",
    "        datus.append(detected_faces[0][2])  #bottom\n",
    "        datus.append(detected_faces[0][3])  #right\n",
    "\n",
    "        all_landmarks = pts_img.numpy()\n",
    "        for x,y in all_landmarks:\n",
    "            datus.append(x), datus.append(y)  #x and y position of each landmark\n",
    "\n",
    "        LandmarkDataFrame = LandmarkDataFrame.append(pd.Series(datus,index = df_cols), \n",
    "                               ignore_index = True)\n",
    "        \n",
    "        k +=1 \n",
    "\n",
    "        \n",
    "#add time to landmarks \n",
    "LandmarkDataFrame.insert(loc=1, column='Time_Stamp (s)', value=(np.array(time_st)-time_st[0])/1000)\n",
    "        \n",
    "landmark_file = BAG_File[:-4]+'_landmarks.csv'\n",
    "LandmarkDataFrame.to_csv(landmark_file)   \n",
    "\n",
    "\n",
    "\n",
    "print('done')"
   ]
  },
  {
   "cell_type": "markdown",
   "metadata": {},
   "source": [
    "### Smooth landmarks positions and generate a new video showing landmarks "
   ]
  },
  {
   "cell_type": "code",
   "execution_count": 101,
   "metadata": {},
   "outputs": [
    {
     "name": "stdout",
     "output_type": "stream",
     "text": [
      "done -- please review video\n"
     ]
    }
   ],
   "source": [
    "LandmarkDataFrame = pd.read_csv(BAG_File[:-4]+'_landmarks.csv', index_col=0)\n",
    "b, a = signal.bessel(2,0.1)\n",
    "windowlength=5\n",
    "ARdegree=3\n",
    "MAdegree=3\n",
    "for i in range(68):\n",
    "    num=str(i)\n",
    "    xx = LandmarkDataFrame['landmark_'+num+'_x'].values\n",
    "    xx_med = signal.medfilt(xx,kernel_size=windowlength)\n",
    "#     mod_xx = sm.tsa.statespace.SARIMAX(xx, order=(ARdegree,0,MAdegree),seasonal_order=(0, 0, 0, 0),simple_differencing=True)\n",
    "#     res_xx = mod_xx.fit()\n",
    "#     predict_xx = res_xx.get_prediction(end=mod_xx.nobs +0-1)\n",
    "#     predict_xx_out = predict_xx.predicted_mean\n",
    "#     predict_xx_out[0] = xx[0]\n",
    "\n",
    "    \n",
    "    yy = LandmarkDataFrame['landmark_'+num+'_y'].values\n",
    "    yy_med = signal.medfilt(yy,kernel_size=windowlength)  \n",
    "#     mod_yy = sm.tsa.statespace.SARIMAX(yy, order=(ARdegree,0,MAdegree),seasonal_order=(0, 0, 0, 0),simple_differencing=True)\n",
    "#     res_yy = mod_yy.fit()\n",
    "#     predict_yy = res_yy.get_prediction(end=mod_yy.nobs +0-1)\n",
    "#     predict_yy_out = predict_yy.predicted_mean\n",
    "#     predict_yy_out[0] = yy[0]\n",
    "       \n",
    "    LandmarkDataFrame['landmark_'+num+'_x'] = xx_med\n",
    "    LandmarkDataFrame['landmark_'+num+'_y'] = yy_med\n",
    "    \n",
    "landmark_file = BAG_File[:-4]+'_landmarksFiltered.csv'\n",
    "LandmarkDataFrame.to_csv(landmark_file)    \n",
    "\n",
    "color_file_landmark = BAG_File[:-4]+'_colorlandmark.mp4'\n",
    "\n",
    "video = VideoWriter(color_file_landmark, -1, int(FPS), (width,height))\n",
    "video_handler = cv2.VideoCapture(color_file)  # read the video\n",
    "success = True \n",
    "k=0\n",
    "for k in range(int(num_frames)):\n",
    "    success, image = video_handler.read()\n",
    "\n",
    "    frame_number=k+1\n",
    "    frame_information = LandmarkDataFrame.loc[LandmarkDataFrame['Video_Frame_number'] == frame_number].values\n",
    "    shape = np.array([frame_information[0][7:]])\n",
    "    shape = np.reshape(shape.astype(np.int), (-1, 2))\n",
    "    for (x, y) in shape:\n",
    "        if x is np.NaN:\n",
    "            continue\n",
    "        else:\n",
    "            cv2.circle(image, (x, y), 2, (0, 255, 0), -1)\n",
    "\n",
    "    frame_to_save = image\n",
    "    video.write(frame_to_save)\n",
    "    k +=1\n",
    "\n",
    "video.release()\n",
    "\n",
    "print('done -- please review video')"
   ]
  },
  {
   "cell_type": "markdown",
   "metadata": {},
   "source": [
    "### This portion of the notebook determines the deepth information for each landmark, it also transform the landmarks from pixel coordinates to real-word coordinates "
   ]
  },
  {
   "cell_type": "code",
   "execution_count": 124,
   "metadata": {},
   "outputs": [
    {
     "name": "stdout",
     "output_type": "stream",
     "text": [
      "done\n"
     ]
    }
   ],
   "source": [
    "#load landmakrs information\n",
    "DF_landmarks = pd.read_csv(BAG_File[:-4]+'_landmarksFiltered.csv', index_col=0)\n",
    "\n",
    "#create dataframe to store information about 3d position of landmarks\n",
    "df_cols_p1 = [\"BAG_Frame_number\",\"Video_Frame_number\",]\n",
    "for i in range(0,68):\n",
    "    num=str(i)\n",
    "    xx = 'landmark_'+num\n",
    "    df_cols_p1.append(xx)\n",
    "    df_cols_p1.append(xx)\n",
    "    df_cols_p1.append(xx)\n",
    "    \n",
    "df_cols_p2 = [\"\",\"\"]\n",
    "for i in range(0,68):\n",
    "    df_cols_p2.append(\"x\")\n",
    "    df_cols_p2.append(\"y\")\n",
    "    df_cols_p2.append(\"z\")\n",
    "    \n",
    "header = [np.array(df_cols_p1), \n",
    "np.array(df_cols_p2)] \n",
    "\n",
    "DF_3dpositions= pd.DataFrame(columns = header)\n",
    "\n",
    "# start the process of extracting the video information for each video\n",
    "pipeline = rs.pipeline()\n",
    "config = rs.config()\n",
    "\n",
    "rs.config.enable_device_from_file(config, BAG_File, repeat_playback=False)\n",
    "\n",
    "config.enable_all_streams()\n",
    "profile = pipeline.start(config)\n",
    "\n",
    "# create alignment object\n",
    "align_to = rs.stream.color\n",
    "align = rs.align(align_to)\n",
    "\n",
    "# Getting the depth sensor's depth scale (see rs-align example for explanation)\n",
    "depth_sensor = profile.get_device().first_depth_sensor()\n",
    "depth_scale = depth_sensor.get_depth_scale()\n",
    "\n",
    "# inform the device that this is not live streaming from camera\n",
    "playback = profile.get_device().as_playback()\n",
    "playback.set_real_time(False)\n",
    "duration = playback.get_duration()\n",
    "\n",
    "#fill holes in the depth information (based on this example: https://nbviewer.jupyter.org/github/IntelRealSense/librealsense/blob/jupyter/notebooks/depth_filters.ipynb)\n",
    "spatial = rs.spatial_filter()\n",
    "spatial.set_option(rs.option.filter_magnitude, 2)\n",
    "spatial.set_option(rs.option.filter_smooth_alpha, 0.5)\n",
    "spatial.set_option(rs.option.filter_smooth_delta, 20)\n",
    "spatial.set_option(rs.option.holes_fill, 3)\n",
    "\n",
    "true_frame_number = []\n",
    "frame_number = []\n",
    "time_st = []\n",
    "\n",
    "num_frame = 0\n",
    "\n",
    "try:\n",
    "    while True:\n",
    "        frames = pipeline.wait_for_frames(100)\n",
    "        \n",
    "        this_frame = frames.get_frame_number()  #get frame number\n",
    "        \n",
    "        #verify that we have landmarks for this particular frame \n",
    "        landmarks = DF_landmarks.loc[DF_landmarks['BAG_Frame_number'] == this_frame].values\n",
    "        \n",
    "        #if there are not landmakrs then just ignore the frame\n",
    "        \n",
    "        if len(landmarks)>0 : \n",
    "            #continue only if landmarks for the frame are avaliable\n",
    "            landmarks = landmarks[0][7:]\n",
    "            landmarks = landmarks.astype('float').reshape(-1, 2)\n",
    "            \n",
    "            if (num_frame != 0) and (true_frame_number[-1] == this_frame): #verify that frame number is not repeated \n",
    "                #frame is repeated\n",
    "                aligned_frames = align.process(frames)\n",
    "        \n",
    "                #take color and depth from frame, if any to these is not available then skip the frame\n",
    "                aligned_depth = aligned_frames.get_depth_frame()\n",
    "                aligned_color = aligned_frames.get_color_frame()\n",
    "\n",
    "                # validate that both frames are available\n",
    "                if not aligned_depth or not aligned_color:\n",
    "                    continue\n",
    "\n",
    "                time_stamp = frames.get_timestamp()\n",
    "                true_frame_number[-1] = frames.get_frame_number()\n",
    "                time_st[-1] = time_stamp\n",
    "                frame_number[-1] = num_frame\n",
    "\n",
    "                # Intrinsics & Extrinsics\n",
    "                depth_intrin = aligned_depth.profile.as_video_stream_profile().intrinsics\n",
    "                color_intrin = aligned_depth.profile.as_video_stream_profile().intrinsics\n",
    "                depth_to_color_extrin = aligned_depth.profile.get_extrinsics_to(aligned_color.profile)\n",
    "\n",
    "                aligned_filtered_depth = spatial.process(aligned_depth)\n",
    "                depth_frame_array = np.asanyarray(aligned_filtered_depth.get_data())\n",
    "                depth_frame_array = depth_frame_array*depth_scale\n",
    "\n",
    "                coords = []\n",
    "                coords.append(frames.get_frame_number())\n",
    "                coords.append(int(num_frame)+1)\n",
    "\n",
    "                for (c,r) in landmarks:  #landmarks provide the x,y position of each landmark. x are columns and y are rows in the figure\n",
    "                    #depth_value = depth_frame.get_distance(int(c),int(r))\n",
    "                    #x,y,z = rs.rs2_deproject_pixel_to_point(depth_intrin, [int(c), int(r)], depth_value)\n",
    "                    depth_value = depth_frame_array[int(r),int(c)]\n",
    "                    z = depth_value\n",
    "                    x = z*((c-depth_intrin.ppx)/depth_intrin.fx)\n",
    "                    y = z*((r-depth_intrin.ppy)/depth_intrin.fy)                    \n",
    "                    coords.append(x),coords.append(y),coords.append(z)\n",
    "\n",
    "                #DF_3dpositions = DF_3dpositions.append(pd.Series(coords,index = header), ignore_index = True)\n",
    "                DF_3dpositions.iloc[-1] =  pd.Series(coords,index = header)\n",
    "            else:\n",
    "                aligned_frames = align.process(frames)\n",
    "        \n",
    "                #take color and depth from frame, if any to these is not available then skip the frame\n",
    "                aligned_depth = aligned_frames.get_depth_frame()\n",
    "                aligned_color = aligned_frames.get_color_frame()\n",
    "\n",
    "                # validate that both frames are available\n",
    "                if not aligned_depth or not aligned_color:\n",
    "                    continue\n",
    "\n",
    "                time_stamp = frames.get_timestamp()\n",
    "                true_frame_number.append(frames.get_frame_number())\n",
    "                time_st.append(time_stamp)\n",
    "                frame_number.append(num_frame)\n",
    "\n",
    "                # Intrinsics & Extrinsics\n",
    "                depth_intrin = aligned_depth.profile.as_video_stream_profile().intrinsics\n",
    "                color_intrin = aligned_depth.profile.as_video_stream_profile().intrinsics\n",
    "                depth_to_color_extrin = aligned_depth.profile.get_extrinsics_to(aligned_color.profile)\n",
    "\n",
    "                aligned_filtered_depth = spatial.process(aligned_depth)\n",
    "                depth_frame_array = np.asanyarray(aligned_filtered_depth.as_frame().get_data())\n",
    "                depth_frame_array = depth_frame_array*depth_scale\n",
    "\n",
    "                coords = []\n",
    "                coords.append(frames.get_frame_number())\n",
    "                coords.append(int(num_frame)+1)\n",
    "\n",
    "                for (c,r) in landmarks:  #landmarks provide the x,y position of each landmark. x are columns and y are rows in the figure\n",
    "                    #depth_value = depth_frame.get_distance(int(c),int(r))\n",
    "                    #x,y,z = rs.rs2_deproject_pixel_to_point(depth_intrin, [int(c), int(r)], depth_value)\n",
    "                    depth_value = depth_frame_array[int(r),int(c)]\n",
    "                    z = depth_value\n",
    "                    x = z*((c-depth_intrin.ppx)/depth_intrin.fx)\n",
    "                    y = z*((r-depth_intrin.ppy)/depth_intrin.fy)                    \n",
    "                    coords.append(x),coords.append(y),coords.append(z)\n",
    "\n",
    "                DF_3dpositions = DF_3dpositions.append(pd.Series(coords,index = header), ignore_index = True)\n",
    "\n",
    "                num_frame += 1\n",
    "\n",
    "except RuntimeError:\n",
    "    pass\n",
    "finally:\n",
    "    pipeline.stop()\n",
    "    \n",
    "    \n",
    "#add time to 3d coordinates\n",
    "DF_3dpositions.insert(loc=1, column='Time_Stamp (s)', value=(np.array(time_st)-time_st[0])/1000)\n",
    "landmarks_3D_file = BAG_File[:-4]+'_Landmarks3D.csv'\n",
    "DF_3dpositions.to_csv(landmarks_3D_file)\n",
    "    \n",
    "cvs_frame_info = BAG_File[:-4]+'_frameInfoDepth.csv'\n",
    "DF = pd.DataFrame()\n",
    "DF['Actual_Frame_Number'] = true_frame_number\n",
    "DF['Frame_Time_Stamp'] = (np.array(time_st)-time_st[0])/1000\n",
    "DF['Frame_Number_in_Video'] = frame_number\n",
    "DF.to_csv(cvs_frame_info)\n",
    "\n",
    "\n",
    "\n",
    "print('done')"
   ]
  },
  {
   "cell_type": "markdown",
   "metadata": {},
   "source": [
    "## Visualization "
   ]
  },
  {
   "cell_type": "code",
   "execution_count": 131,
   "metadata": {},
   "outputs": [
    {
     "data": {
      "text/plain": [
       "[<matplotlib.lines.Line2D at 0x1b168e3ea90>]"
      ]
     },
     "execution_count": 131,
     "metadata": {},
     "output_type": "execute_result"
    },
    {
     "data": {
      "image/png": "[encoded data removed]",
      "text/plain": [
       "<Figure size 432x288 with 1 Axes>"
      ]
     },
     "metadata": {
      "needs_background": "light"
     },
     "output_type": "display_data"
    }
   ],
   "source": [
    "DF_3dpositions = pd.read_csv(BAG_File[:-4]+'_Landmarks3D.csv')\n",
    "#DF_3dpositions = pd.read_csv('./data/RM02_02_RST_REST_Landmarks3D.csv')\n",
    "\n",
    "\n",
    "#we are goinf to focus on the rihgt and left corners of the mouth and the top and bottom lips \n",
    "#these positions correspond to landmarks 48, 54 and 51, 57 respectivelly\n",
    "\n",
    "Right_corner = DF_3dpositions.filter(like='landmark_48')\n",
    "Right_corner_x = Right_corner.iloc[1:,[0]].values\n",
    "Right_corner_y = Right_corner.iloc[1:,[1]].values\n",
    "Right_corner_z = Right_corner.iloc[1:,[2]].values\n",
    "Right_Corner_Coord = np.column_stack((Right_corner_x.astype(np.double),Right_corner_y.astype(np.double),Right_corner_z.astype(np.double)))\n",
    "\n",
    "Left_corner = DF_3dpositions.filter(like='landmark_54')\n",
    "Left_corner_x = Left_corner.iloc[1:,[0]].values\n",
    "Left_corner_y = Left_corner.iloc[1:,[1]].values\n",
    "Left_corner_z = Left_corner.iloc[1:,[2]].values\n",
    "Left_Corner_Coord = np.column_stack((Left_corner_x.astype(np.double),Left_corner_y.astype(np.double),Left_corner_z.astype(np.double)))\n",
    "\n",
    "Top_lip = DF_3dpositions.filter(like='landmark_51')\n",
    "Top_lip_x = Top_lip.iloc[1:,[0]].values\n",
    "Top_lip_y = Top_lip.iloc[1:,[1]].values\n",
    "Top_lip_z = Top_lip.iloc[1:,[2]].values\n",
    "Top_Lip_Coord = np.column_stack((Top_lip_x.astype(np.double),Top_lip_y.astype(np.double),Top_lip_z.astype(np.double)))\n",
    "\n",
    "Bottom_lip = DF_3dpositions.filter(like='landmark_57')\n",
    "Bottom_lip_x = Bottom_lip.iloc[1:,[0]].values\n",
    "Bottom_lip_y = Bottom_lip.iloc[1:,[1]].values\n",
    "Bottom_lip_z = Bottom_lip.iloc[1:,[2]].values\n",
    "Bottom_Lip_Coord = np.column_stack((Bottom_lip_x.astype(np.double),Bottom_lip_y.astype(np.double),Bottom_lip_z.astype(np.double)))\n",
    "\n",
    "\n",
    "mouth_corners = np.zeros((len(Right_Corner_Coord),1))\n",
    "top_bottom = np.zeros((len(Right_Corner_Coord),1))\n",
    "for i in range(len(Right_Corner_Coord)):\n",
    "    mouth_corners[i] = np.sqrt((Right_Corner_Coord[i,0]-Left_Corner_Coord[i,0])**2+(Right_Corner_Coord[i,1]-Left_Corner_Coord[i,1])**2+(Right_Corner_Coord[i,2]-Left_Corner_Coord[i,2])**2)\n",
    "    top_bottom[i] = np.sqrt((Top_Lip_Coord[i,0]-Bottom_Lip_Coord[i,0])**2+(Top_Lip_Coord[i,1]-Bottom_Lip_Coord[i,1])**2+(Top_Lip_Coord[i,2]-Bottom_Lip_Coord[i,2])**2)\n",
    "    \n",
    "    \n",
    "time_sec = DF_3dpositions['Time_Stamp (s)'].values[1:]\n",
    "plt.plot(time_sec,signal.medfilt(top_bottom[:,0],kernel_size=11))\n",
    "plt.plot(time_sec,signal.medfilt(mouth_corners[:,0],kernel_size=11))\n"
   ]
  },
  {
   "cell_type": "code",
   "execution_count": 152,
   "metadata": {},
   "outputs": [
    {
     "ename": "OSError",
     "evalue": "[Errno 22] Invalid argument: './resutls/C:\\\\Users\\\\GuarinD\\\\Documents\\\\GitHub\\\\Extract_Color_Information\\\\data\\\\RM01_02_NSM_OPEN_20191101_FinalResults.csv'",
     "output_type": "error",
     "traceback": [
      "\u001b[1;31m---------------------------------------------------------------------------\u001b[0m",
      "\u001b[1;31mOSError\u001b[0m                                   Traceback (most recent call last)",
      "\u001b[1;32m<ipython-input-152-4d635bd3fa41>\u001b[0m in \u001b[0;36m<module>\u001b[1;34m\u001b[0m\n\u001b[0;32m      5\u001b[0m \u001b[0mout\u001b[0m\u001b[1;33m[\u001b[0m\u001b[1;34m'Vert_Lip_Motion'\u001b[0m\u001b[1;33m]\u001b[0m \u001b[1;33m=\u001b[0m \u001b[0msignal\u001b[0m\u001b[1;33m.\u001b[0m\u001b[0mmedfilt\u001b[0m\u001b[1;33m(\u001b[0m\u001b[0mmouth_corners\u001b[0m\u001b[1;33m[\u001b[0m\u001b[1;33m:\u001b[0m\u001b[1;33m,\u001b[0m\u001b[1;36m0\u001b[0m\u001b[1;33m]\u001b[0m\u001b[1;33m,\u001b[0m\u001b[0mkernel_size\u001b[0m\u001b[1;33m=\u001b[0m\u001b[1;36m11\u001b[0m\u001b[1;33m)\u001b[0m\u001b[1;33m\u001b[0m\u001b[1;33m\u001b[0m\u001b[0m\n\u001b[0;32m      6\u001b[0m \u001b[0mcvs_frame_info\u001b[0m \u001b[1;33m=\u001b[0m \u001b[0mBAG_File\u001b[0m\u001b[1;33m[\u001b[0m\u001b[1;33m:\u001b[0m\u001b[1;33m-\u001b[0m\u001b[1;36m4\u001b[0m\u001b[1;33m]\u001b[0m\u001b[1;33m+\u001b[0m\u001b[1;34m'_FinalResults.csv'\u001b[0m\u001b[1;33m\u001b[0m\u001b[1;33m\u001b[0m\u001b[0m\n\u001b[1;32m----> 7\u001b[1;33m \u001b[0mout\u001b[0m\u001b[1;33m.\u001b[0m\u001b[0mto_csv\u001b[0m\u001b[1;33m(\u001b[0m\u001b[1;34m'./resutls/'\u001b[0m\u001b[1;33m+\u001b[0m\u001b[0mcvs_frame_info\u001b[0m\u001b[1;33m)\u001b[0m\u001b[1;33m\u001b[0m\u001b[1;33m\u001b[0m\u001b[0m\n\u001b[0m",
      "\u001b[1;32m~\\.conda\\envs\\pytorch_deploy\\lib\\site-packages\\pandas\\core\\generic.py\u001b[0m in \u001b[0;36mto_csv\u001b[1;34m(self, path_or_buf, sep, na_rep, float_format, columns, header, index, index_label, mode, encoding, compression, quoting, quotechar, line_terminator, chunksize, tupleize_cols, date_format, doublequote, escapechar, decimal)\u001b[0m\n\u001b[0;32m   3018\u001b[0m                                  \u001b[0mdoublequote\u001b[0m\u001b[1;33m=\u001b[0m\u001b[0mdoublequote\u001b[0m\u001b[1;33m,\u001b[0m\u001b[1;33m\u001b[0m\u001b[1;33m\u001b[0m\u001b[0m\n\u001b[0;32m   3019\u001b[0m                                  escapechar=escapechar, decimal=decimal)\n\u001b[1;32m-> 3020\u001b[1;33m         \u001b[0mformatter\u001b[0m\u001b[1;33m.\u001b[0m\u001b[0msave\u001b[0m\u001b[1;33m(\u001b[0m\u001b[1;33m)\u001b[0m\u001b[1;33m\u001b[0m\u001b[1;33m\u001b[0m\u001b[0m\n\u001b[0m\u001b[0;32m   3021\u001b[0m \u001b[1;33m\u001b[0m\u001b[0m\n\u001b[0;32m   3022\u001b[0m         \u001b[1;32mif\u001b[0m \u001b[0mpath_or_buf\u001b[0m \u001b[1;32mis\u001b[0m \u001b[1;32mNone\u001b[0m\u001b[1;33m:\u001b[0m\u001b[1;33m\u001b[0m\u001b[1;33m\u001b[0m\u001b[0m\n",
      "\u001b[1;32m~\\.conda\\envs\\pytorch_deploy\\lib\\site-packages\\pandas\\io\\formats\\csvs.py\u001b[0m in \u001b[0;36msave\u001b[1;34m(self)\u001b[0m\n\u001b[0;32m    155\u001b[0m             f, handles = _get_handle(self.path_or_buf, self.mode,\n\u001b[0;32m    156\u001b[0m                                      \u001b[0mencoding\u001b[0m\u001b[1;33m=\u001b[0m\u001b[0mself\u001b[0m\u001b[1;33m.\u001b[0m\u001b[0mencoding\u001b[0m\u001b[1;33m,\u001b[0m\u001b[1;33m\u001b[0m\u001b[1;33m\u001b[0m\u001b[0m\n\u001b[1;32m--> 157\u001b[1;33m                                      compression=self.compression)\n\u001b[0m\u001b[0;32m    158\u001b[0m             \u001b[0mclose\u001b[0m \u001b[1;33m=\u001b[0m \u001b[1;32mTrue\u001b[0m\u001b[1;33m\u001b[0m\u001b[1;33m\u001b[0m\u001b[0m\n\u001b[0;32m    159\u001b[0m \u001b[1;33m\u001b[0m\u001b[0m\n",
      "\u001b[1;32m~\\.conda\\envs\\pytorch_deploy\\lib\\site-packages\\pandas\\io\\common.py\u001b[0m in \u001b[0;36m_get_handle\u001b[1;34m(path_or_buf, mode, encoding, compression, memory_map, is_text)\u001b[0m\n\u001b[0;32m    422\u001b[0m         \u001b[1;32melif\u001b[0m \u001b[0mencoding\u001b[0m\u001b[1;33m:\u001b[0m\u001b[1;33m\u001b[0m\u001b[1;33m\u001b[0m\u001b[0m\n\u001b[0;32m    423\u001b[0m             \u001b[1;31m# Python 3 and encoding\u001b[0m\u001b[1;33m\u001b[0m\u001b[1;33m\u001b[0m\u001b[1;33m\u001b[0m\u001b[0m\n\u001b[1;32m--> 424\u001b[1;33m             \u001b[0mf\u001b[0m \u001b[1;33m=\u001b[0m \u001b[0mopen\u001b[0m\u001b[1;33m(\u001b[0m\u001b[0mpath_or_buf\u001b[0m\u001b[1;33m,\u001b[0m \u001b[0mmode\u001b[0m\u001b[1;33m,\u001b[0m \u001b[0mencoding\u001b[0m\u001b[1;33m=\u001b[0m\u001b[0mencoding\u001b[0m\u001b[1;33m,\u001b[0m \u001b[0mnewline\u001b[0m\u001b[1;33m=\u001b[0m\u001b[1;34m\"\"\u001b[0m\u001b[1;33m)\u001b[0m\u001b[1;33m\u001b[0m\u001b[1;33m\u001b[0m\u001b[0m\n\u001b[0m\u001b[0;32m    425\u001b[0m         \u001b[1;32melif\u001b[0m \u001b[0mis_text\u001b[0m\u001b[1;33m:\u001b[0m\u001b[1;33m\u001b[0m\u001b[1;33m\u001b[0m\u001b[0m\n\u001b[0;32m    426\u001b[0m             \u001b[1;31m# Python 3 and no explicit encoding\u001b[0m\u001b[1;33m\u001b[0m\u001b[1;33m\u001b[0m\u001b[1;33m\u001b[0m\u001b[0m\n",
      "\u001b[1;31mOSError\u001b[0m: [Errno 22] Invalid argument: './resutls/C:\\\\Users\\\\GuarinD\\\\Documents\\\\GitHub\\\\Extract_Color_Information\\\\data\\\\RM01_02_NSM_OPEN_20191101_FinalResults.csv'"
     ]
    }
   ],
   "source": [
    "out = pd.DataFrame()\n",
    "out['Video_frame'] = frame_number\n",
    "out['Frame_Time_Stamp'] = (np.array(time_st)-time_st[0])/1000\n",
    "out['Horiz_Lip_Motion'] = signal.medfilt(top_bottom[:,0],kernel_size=11)\n",
    "out['Vert_Lip_Motion'] = signal.medfilt(mouth_corners[:,0],kernel_size=11)\n",
    "cvs_frame_info = BAG_File[:-4]+'_FinalResults.csv'\n",
    "out.to_csv('./resutls/'+cvs_frame_info)"
   ]
  },
  {
   "cell_type": "code",
   "execution_count": 105,
   "metadata": {},
   "outputs": [
    {
     "data": {
      "text/plain": [
       "0.00012498664727900177"
      ]
     },
     "execution_count": 105,
     "metadata": {},
     "output_type": "execute_result"
    }
   ],
   "source": [
    "depth_scale"
   ]
  },
  {
   "cell_type": "code",
   "execution_count": 151,
   "metadata": {},
   "outputs": [
    {
     "data": {
      "text/plain": [
       "[<matplotlib.lines.Line2D at 0x1b16952b860>]"
      ]
     },
     "execution_count": 151,
     "metadata": {},
     "output_type": "execute_result"
    },
    {
     "data": {
      "image/png": "[encoded data removed]",
      "text/plain": [
       "<Figure size 432x288 with 1 Axes>"
      ]
     },
     "metadata": {
      "needs_background": "light"
     },
     "output_type": "display_data"
    }
   ],
   "source": [
    "smooth_signal = signal.medfilt(top_bottom[:,0],kernel_size=11)\n",
    "plt.plot(time_sec,signal.medfilt(np.gradient(smooth_signal, time_sec),9))\n",
    "plt.plot(time_sec,signal.medfilt(top_bottom[:,0],kernel_size=11))"
   ]
  },
  {
   "cell_type": "code",
   "execution_count": 148,
   "metadata": {},
   "outputs": [],
   "source": [
    "vel_signal = signal.medfilt(np.gradient(smooth_signal, time_sec),9)\n",
    "peaks_pos, _ = signal.find_peaks(vel_signal, height=0.05)\n",
    "peaks_neg, _ = signal.find_peaks(-vel_signal, height=0.05)"
   ]
  },
  {
   "cell_type": "code",
   "execution_count": 149,
   "metadata": {},
   "outputs": [
    {
     "data": {
      "text/plain": [
       "(array([ 12,  71, 136, 201, 262], dtype=int64),\n",
       " array([ 42, 107, 172, 235, 293], dtype=int64))"
      ]
     },
     "execution_count": 149,
     "metadata": {},
     "output_type": "execute_result"
    }
   ],
   "source": [
    "peaks_pos, peaks_neg"
   ]
  },
  {
   "cell_type": "code",
   "execution_count": null,
   "metadata": {},
   "outputs": [],
   "source": []
  }
 ],
 "metadata": {
  "kernelspec": {
   "display_name": "Python 3",
   "language": "python",
   "name": "python3"
  },
  "language_info": {
   "codemirror_mode": {
    "name": "ipython",
    "version": 3
   },
   "file_extension": ".py",
   "mimetype": "text/x-python",
   "name": "python",
   "nbconvert_exporter": "python",
   "pygments_lexer": "ipython3",
   "version": "3.7.3"
  }
 },
 "nbformat": 4,
 "nbformat_minor": 2
}
